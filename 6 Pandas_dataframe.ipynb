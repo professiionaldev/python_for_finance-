{
 "cells": [
  {
   "cell_type": "markdown",
   "id": "9e634408-fd02-4e8b-85e0-5f84142fe56e",
   "metadata": {},
   "source": [
    "# Pandas Dataframes\n"
   ]
  },
  {
   "cell_type": "code",
   "execution_count": 14,
   "id": "31440bfe-9ba0-4d5f-8460-9f2db66c82bb",
   "metadata": {},
   "outputs": [],
   "source": [
    "import pandas as pd\n",
    "import numpy as np\n",
    "from  numpy.random import randn"
   ]
  },
  {
   "cell_type": "code",
   "execution_count": 21,
   "id": "d0d039cd-beff-4e04-bcb7-af407edf8c0e",
   "metadata": {},
   "outputs": [],
   "source": [
    "# dataframe=pd.DataFrame(data,index,columns,dtype,copy)"
   ]
  },
  {
   "cell_type": "code",
   "execution_count": 39,
   "id": "3b2c94d2-20d5-4638-a530-a76d1e590531",
   "metadata": {},
   "outputs": [
    {
     "data": {
      "text/html": [
       "<div>\n",
       "<style scoped>\n",
       "    .dataframe tbody tr th:only-of-type {\n",
       "        vertical-align: middle;\n",
       "    }\n",
       "\n",
       "    .dataframe tbody tr th {\n",
       "        vertical-align: top;\n",
       "    }\n",
       "\n",
       "    .dataframe thead th {\n",
       "        text-align: right;\n",
       "    }\n",
       "</style>\n",
       "<table border=\"1\" class=\"dataframe\">\n",
       "  <thead>\n",
       "    <tr style=\"text-align: right;\">\n",
       "      <th></th>\n",
       "      <th>A</th>\n",
       "      <th>B</th>\n",
       "      <th>C</th>\n",
       "      <th>D</th>\n",
       "      <th>E</th>\n",
       "    </tr>\n",
       "  </thead>\n",
       "  <tbody>\n",
       "    <tr>\n",
       "      <th>P</th>\n",
       "      <td>0.175959</td>\n",
       "      <td>-0.486368</td>\n",
       "      <td>0.186711</td>\n",
       "      <td>-0.404243</td>\n",
       "      <td>-1.223367</td>\n",
       "    </tr>\n",
       "    <tr>\n",
       "      <th>Q</th>\n",
       "      <td>-0.521896</td>\n",
       "      <td>-0.405500</td>\n",
       "      <td>2.415546</td>\n",
       "      <td>-0.690814</td>\n",
       "      <td>0.004434</td>\n",
       "    </tr>\n",
       "    <tr>\n",
       "      <th>R</th>\n",
       "      <td>-0.240718</td>\n",
       "      <td>-0.915992</td>\n",
       "      <td>0.348185</td>\n",
       "      <td>-1.383135</td>\n",
       "      <td>-0.609456</td>\n",
       "    </tr>\n",
       "    <tr>\n",
       "      <th>S</th>\n",
       "      <td>0.061805</td>\n",
       "      <td>0.324368</td>\n",
       "      <td>1.066725</td>\n",
       "      <td>0.903609</td>\n",
       "      <td>-1.820567</td>\n",
       "    </tr>\n",
       "  </tbody>\n",
       "</table>\n",
       "</div>"
      ],
      "text/plain": [
       "          A         B         C         D         E\n",
       "P  0.175959 -0.486368  0.186711 -0.404243 -1.223367\n",
       "Q -0.521896 -0.405500  2.415546 -0.690814  0.004434\n",
       "R -0.240718 -0.915992  0.348185 -1.383135 -0.609456\n",
       "S  0.061805  0.324368  1.066725  0.903609 -1.820567"
      ]
     },
     "execution_count": 39,
     "metadata": {},
     "output_type": "execute_result"
    }
   ],
   "source": [
    "Dataframe=pd.DataFrame(randn(4,5),index=['P','Q','R','S'],columns=['A','B','C','D','E'])\n",
    "Dataframe"
   ]
  },
  {
   "cell_type": "markdown",
   "id": "daa20b16-8c19-4261-9240-d5a5a2dbd77c",
   "metadata": {},
   "source": [
    "# Indexing in pandas"
   ]
  },
  {
   "cell_type": "code",
   "execution_count": 43,
   "id": "6de33371-64c8-4f0f-9fd0-e431967fe5c2",
   "metadata": {},
   "outputs": [],
   "source": [
    "# loc= loc[A]\n",
    "# iloc=iloc[0]"
   ]
  },
  {
   "cell_type": "code",
   "execution_count": 75,
   "id": "7ea38240-04a7-498a-b8f5-1592aad8e2b7",
   "metadata": {},
   "outputs": [
    {
     "data": {
      "text/html": [
       "<div>\n",
       "<style scoped>\n",
       "    .dataframe tbody tr th:only-of-type {\n",
       "        vertical-align: middle;\n",
       "    }\n",
       "\n",
       "    .dataframe tbody tr th {\n",
       "        vertical-align: top;\n",
       "    }\n",
       "\n",
       "    .dataframe thead th {\n",
       "        text-align: right;\n",
       "    }\n",
       "</style>\n",
       "<table border=\"1\" class=\"dataframe\">\n",
       "  <thead>\n",
       "    <tr style=\"text-align: right;\">\n",
       "      <th></th>\n",
       "      <th>A</th>\n",
       "      <th>B</th>\n",
       "      <th>C</th>\n",
       "      <th>D</th>\n",
       "      <th>E</th>\n",
       "    </tr>\n",
       "  </thead>\n",
       "  <tbody>\n",
       "    <tr>\n",
       "      <th>P</th>\n",
       "      <td>0.175959</td>\n",
       "      <td>-0.486368</td>\n",
       "      <td>0.186711</td>\n",
       "      <td>-0.404243</td>\n",
       "      <td>-1.223367</td>\n",
       "    </tr>\n",
       "    <tr>\n",
       "      <th>Q</th>\n",
       "      <td>-0.521896</td>\n",
       "      <td>-0.405500</td>\n",
       "      <td>2.415546</td>\n",
       "      <td>-0.690814</td>\n",
       "      <td>0.004434</td>\n",
       "    </tr>\n",
       "  </tbody>\n",
       "</table>\n",
       "</div>"
      ],
      "text/plain": [
       "          A         B         C         D         E\n",
       "P  0.175959 -0.486368  0.186711 -0.404243 -1.223367\n",
       "Q -0.521896 -0.405500  2.415546 -0.690814  0.004434"
      ]
     },
     "execution_count": 75,
     "metadata": {},
     "output_type": "execute_result"
    }
   ],
   "source": [
    "# Dataframe.loc[]  #------------- loc function \n",
    "Dataframe.loc['P':'Q']\n"
   ]
  },
  {
   "cell_type": "code",
   "execution_count": 69,
   "id": "ff7f175a-8787-402f-b782-f544f981db1c",
   "metadata": {},
   "outputs": [
    {
     "data": {
      "text/plain": [
       "A   -0.521896\n",
       "B   -0.405500\n",
       "C    2.415546\n",
       "D   -0.690814\n",
       "E    0.004434\n",
       "Name: Q, dtype: float64"
      ]
     },
     "execution_count": 69,
     "metadata": {},
     "output_type": "execute_result"
    }
   ],
   "source": [
    "# iloc funtion\n",
    "Dataframe.iloc[1]"
   ]
  },
  {
   "cell_type": "markdown",
   "id": "4bbb7e0b-4778-49a9-be42-bf9dc8b6cbb0",
   "metadata": {},
   "source": [
    "## to print the p and r row using loc function"
   ]
  },
  {
   "cell_type": "code",
   "execution_count": 103,
   "id": "e1daa820-beed-4447-91f1-e49c103e6e50",
   "metadata": {},
   "outputs": [
    {
     "data": {
      "text/html": [
       "<div>\n",
       "<style scoped>\n",
       "    .dataframe tbody tr th:only-of-type {\n",
       "        vertical-align: middle;\n",
       "    }\n",
       "\n",
       "    .dataframe tbody tr th {\n",
       "        vertical-align: top;\n",
       "    }\n",
       "\n",
       "    .dataframe thead th {\n",
       "        text-align: right;\n",
       "    }\n",
       "</style>\n",
       "<table border=\"1\" class=\"dataframe\">\n",
       "  <thead>\n",
       "    <tr style=\"text-align: right;\">\n",
       "      <th></th>\n",
       "      <th>C</th>\n",
       "      <th>D</th>\n",
       "    </tr>\n",
       "  </thead>\n",
       "  <tbody>\n",
       "    <tr>\n",
       "      <th>P</th>\n",
       "      <td>0.186711</td>\n",
       "      <td>-0.404243</td>\n",
       "    </tr>\n",
       "    <tr>\n",
       "      <th>R</th>\n",
       "      <td>0.348185</td>\n",
       "      <td>-1.383135</td>\n",
       "    </tr>\n",
       "  </tbody>\n",
       "</table>\n",
       "</div>"
      ],
      "text/plain": [
       "          C         D\n",
       "P  0.186711 -0.404243\n",
       "R  0.348185 -1.383135"
      ]
     },
     "execution_count": 103,
     "metadata": {},
     "output_type": "execute_result"
    }
   ],
   "source": [
    "Dataframe.loc[[\"P\",\"R\"],[\"C\",\"D\"]]"
   ]
  },
  {
   "cell_type": "markdown",
   "id": "7afb23b4-3288-42d9-9145-13a04c95cc4c",
   "metadata": {},
   "source": [
    "## to print the p and r row using iloc function"
   ]
  },
  {
   "cell_type": "code",
   "execution_count": 108,
   "id": "90bb76de-41d6-4ecb-bab9-d6e98cfa84a8",
   "metadata": {},
   "outputs": [
    {
     "data": {
      "text/html": [
       "<div>\n",
       "<style scoped>\n",
       "    .dataframe tbody tr th:only-of-type {\n",
       "        vertical-align: middle;\n",
       "    }\n",
       "\n",
       "    .dataframe tbody tr th {\n",
       "        vertical-align: top;\n",
       "    }\n",
       "\n",
       "    .dataframe thead th {\n",
       "        text-align: right;\n",
       "    }\n",
       "</style>\n",
       "<table border=\"1\" class=\"dataframe\">\n",
       "  <thead>\n",
       "    <tr style=\"text-align: right;\">\n",
       "      <th></th>\n",
       "      <th>A</th>\n",
       "      <th>B</th>\n",
       "      <th>C</th>\n",
       "      <th>D</th>\n",
       "      <th>E</th>\n",
       "    </tr>\n",
       "  </thead>\n",
       "  <tbody>\n",
       "    <tr>\n",
       "      <th>P</th>\n",
       "      <td>0.175959</td>\n",
       "      <td>-0.486368</td>\n",
       "      <td>0.186711</td>\n",
       "      <td>-0.404243</td>\n",
       "      <td>-1.223367</td>\n",
       "    </tr>\n",
       "    <tr>\n",
       "      <th>Q</th>\n",
       "      <td>-0.521896</td>\n",
       "      <td>-0.405500</td>\n",
       "      <td>2.415546</td>\n",
       "      <td>-0.690814</td>\n",
       "      <td>0.004434</td>\n",
       "    </tr>\n",
       "    <tr>\n",
       "      <th>R</th>\n",
       "      <td>-0.240718</td>\n",
       "      <td>-0.915992</td>\n",
       "      <td>0.348185</td>\n",
       "      <td>-1.383135</td>\n",
       "      <td>-0.609456</td>\n",
       "    </tr>\n",
       "    <tr>\n",
       "      <th>S</th>\n",
       "      <td>0.061805</td>\n",
       "      <td>0.324368</td>\n",
       "      <td>1.066725</td>\n",
       "      <td>0.903609</td>\n",
       "      <td>-1.820567</td>\n",
       "    </tr>\n",
       "  </tbody>\n",
       "</table>\n",
       "</div>"
      ],
      "text/plain": [
       "          A         B         C         D         E\n",
       "P  0.175959 -0.486368  0.186711 -0.404243 -1.223367\n",
       "Q -0.521896 -0.405500  2.415546 -0.690814  0.004434\n",
       "R -0.240718 -0.915992  0.348185 -1.383135 -0.609456\n",
       "S  0.061805  0.324368  1.066725  0.903609 -1.820567"
      ]
     },
     "execution_count": 108,
     "metadata": {},
     "output_type": "execute_result"
    }
   ],
   "source": [
    "Dataframe"
   ]
  },
  {
   "cell_type": "code",
   "execution_count": 112,
   "id": "e26464f6-de45-49cf-9c56-3cb5d37ef645",
   "metadata": {},
   "outputs": [
    {
     "data": {
      "text/html": [
       "<div>\n",
       "<style scoped>\n",
       "    .dataframe tbody tr th:only-of-type {\n",
       "        vertical-align: middle;\n",
       "    }\n",
       "\n",
       "    .dataframe tbody tr th {\n",
       "        vertical-align: top;\n",
       "    }\n",
       "\n",
       "    .dataframe thead th {\n",
       "        text-align: right;\n",
       "    }\n",
       "</style>\n",
       "<table border=\"1\" class=\"dataframe\">\n",
       "  <thead>\n",
       "    <tr style=\"text-align: right;\">\n",
       "      <th></th>\n",
       "      <th>C</th>\n",
       "      <th>D</th>\n",
       "    </tr>\n",
       "  </thead>\n",
       "  <tbody>\n",
       "    <tr>\n",
       "      <th>P</th>\n",
       "      <td>0.186711</td>\n",
       "      <td>-0.404243</td>\n",
       "    </tr>\n",
       "    <tr>\n",
       "      <th>R</th>\n",
       "      <td>0.348185</td>\n",
       "      <td>-1.383135</td>\n",
       "    </tr>\n",
       "  </tbody>\n",
       "</table>\n",
       "</div>"
      ],
      "text/plain": [
       "          C         D\n",
       "P  0.186711 -0.404243\n",
       "R  0.348185 -1.383135"
      ]
     },
     "execution_count": 112,
     "metadata": {},
     "output_type": "execute_result"
    }
   ],
   "source": [
    "Dataframe.iloc[[0,2],[2,3]]"
   ]
  },
  {
   "cell_type": "code",
   "execution_count": 120,
   "id": "26e8ff8d-6bb3-41e5-a283-e097ff565a95",
   "metadata": {},
   "outputs": [
    {
     "data": {
      "text/plain": [
       "pandas.core.series.Series"
      ]
     },
     "execution_count": 120,
     "metadata": {},
     "output_type": "execute_result"
    }
   ],
   "source": [
    "type(Dataframe)\n",
    "type(Dataframe.loc['P'])\n"
   ]
  }
 ],
 "metadata": {
  "kernelspec": {
   "display_name": "Python [conda env:base] *",
   "language": "python",
   "name": "conda-base-py"
  },
  "language_info": {
   "codemirror_mode": {
    "name": "ipython",
    "version": 3
   },
   "file_extension": ".py",
   "mimetype": "text/x-python",
   "name": "python",
   "nbconvert_exporter": "python",
   "pygments_lexer": "ipython3",
   "version": "3.12.7"
  }
 },
 "nbformat": 4,
 "nbformat_minor": 5
}
