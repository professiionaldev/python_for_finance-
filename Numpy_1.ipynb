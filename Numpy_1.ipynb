{
 "cells": [
  {
   "cell_type": "code",
   "execution_count": 17,
   "id": "5801335a-f883-42c5-88f2-c413a58e4429",
   "metadata": {},
   "outputs": [],
   "source": [
    "import numpy as np"
   ]
  },
  {
   "cell_type": "code",
   "execution_count": 21,
   "id": "f0cb4d0b-dd47-42c3-bf6d-e4ac9537a223",
   "metadata": {},
   "outputs": [
    {
     "data": {
      "text/plain": [
       "list"
      ]
     },
     "execution_count": 21,
     "metadata": {},
     "output_type": "execute_result"
    }
   ],
   "source": [
    "list1=[1,2,3,4]\n",
    "type(list1)"
   ]
  },
  {
   "cell_type": "code",
   "execution_count": 27,
   "id": "ee139ee9-d58e-47db-b37f-7b5e9100e902",
   "metadata": {},
   "outputs": [
    {
     "data": {
      "text/plain": [
       "array([1, 2, 3, 4])"
      ]
     },
     "execution_count": 27,
     "metadata": {},
     "output_type": "execute_result"
    }
   ],
   "source": [
    "array1=np.array(list1)\n",
    "array1"
   ]
  },
  {
   "cell_type": "code",
   "execution_count": 31,
   "id": "2e52ac97-de57-4e4c-b8e8-1baeecd2cfdd",
   "metadata": {},
   "outputs": [
    {
     "data": {
      "text/plain": [
       "[[1, 2, 3], [4, 5, 6], [7, 8, 9]]"
      ]
     },
     "execution_count": 31,
     "metadata": {},
     "output_type": "execute_result"
    }
   ],
   "source": [
    "list2=[[1,2,3],[4,5,6],[7,8,9]]\n",
    "list2"
   ]
  },
  {
   "cell_type": "code",
   "execution_count": 33,
   "id": "fd0552ff-2cfb-4e63-99f9-c34540232fef",
   "metadata": {},
   "outputs": [
    {
     "data": {
      "text/plain": [
       "array([[1, 2, 3],\n",
       "       [4, 5, 6],\n",
       "       [7, 8, 9]])"
      ]
     },
     "execution_count": 33,
     "metadata": {},
     "output_type": "execute_result"
    }
   ],
   "source": [
    "array2=np.array(list2)\n",
    "array2"
   ]
  },
  {
   "cell_type": "raw",
   "id": "3cddd1cf-f9e0-423b-bae1-c9467a245c40",
   "metadata": {},
   "source": []
  },
  {
   "cell_type": "code",
   "execution_count": 41,
   "id": "03e65823-1607-4742-84f6-45fcbc861f25",
   "metadata": {},
   "outputs": [
    {
     "data": {
      "text/plain": [
       "array([0, 3, 6, 9])"
      ]
     },
     "execution_count": 41,
     "metadata": {},
     "output_type": "execute_result"
    }
   ],
   "source": [
    "array3=np.arange(0,10,3)\n",
    "array3"
   ]
  },
  {
   "cell_type": "code",
   "execution_count": 53,
   "id": "ff488924-2479-4070-8340-2b00c61bf99c",
   "metadata": {},
   "outputs": [
    {
     "data": {
      "text/plain": [
       "array([[0., 0., 0.],\n",
       "       [0., 0., 0.]])"
      ]
     },
     "execution_count": 53,
     "metadata": {},
     "output_type": "execute_result"
    }
   ],
   "source": [
    "np.zeros([2,3])"
   ]
  },
  {
   "cell_type": "code",
   "execution_count": 55,
   "id": "3d9a19ee-77e1-4f39-93f8-9370b351a1fc",
   "metadata": {},
   "outputs": [
    {
     "data": {
      "text/plain": [
       "array([[1., 1., 1.],\n",
       "       [1., 1., 1.],\n",
       "       [1., 1., 1.]])"
      ]
     },
     "execution_count": 55,
     "metadata": {},
     "output_type": "execute_result"
    }
   ],
   "source": [
    "np.ones([3,3])"
   ]
  },
  {
   "attachments": {},
   "cell_type": "markdown",
   "id": "914a859f-f7cc-4364-9611-1a61810132b7",
   "metadata": {},
   "source": [
    "## NumPy's linspace function\n"
   ]
  },
  {
   "cell_type": "code",
   "execution_count": 90,
   "id": "1a0dee12-4730-445d-bb16-e597b4d95277",
   "metadata": {},
   "outputs": [
    {
     "data": {
      "text/plain": [
       "array([  1.        ,   4.4137931 ,   7.82758621,  11.24137931,\n",
       "        14.65517241,  18.06896552,  21.48275862,  24.89655172,\n",
       "        28.31034483,  31.72413793,  35.13793103,  38.55172414,\n",
       "        41.96551724,  45.37931034,  48.79310345,  52.20689655,\n",
       "        55.62068966,  59.03448276,  62.44827586,  65.86206897,\n",
       "        69.27586207,  72.68965517,  76.10344828,  79.51724138,\n",
       "        82.93103448,  86.34482759,  89.75862069,  93.17241379,\n",
       "        96.5862069 , 100.        ])"
      ]
     },
     "execution_count": 90,
     "metadata": {},
     "output_type": "execute_result"
    }
   ],
   "source": [
    "np.linspace(1,100,30)"
   ]
  },
  {
   "cell_type": "code",
   "execution_count": 92,
   "id": "7abc222f-754b-459f-83f8-fd2a3eed8d11",
   "metadata": {},
   "outputs": [
    {
     "data": {
      "text/plain": [
       "array([  1.        ,   4.4137931 ,   7.82758621,  11.24137931,\n",
       "        14.65517241,  18.06896552,  21.48275862,  24.89655172,\n",
       "        28.31034483,  31.72413793,  35.13793103,  38.55172414,\n",
       "        41.96551724,  45.37931034,  48.79310345,  52.20689655,\n",
       "        55.62068966,  59.03448276,  62.44827586,  65.86206897,\n",
       "        69.27586207,  72.68965517,  76.10344828,  79.51724138,\n",
       "        82.93103448,  86.34482759,  89.75862069,  93.17241379,\n",
       "        96.5862069 , 100.        ])"
      ]
     },
     "execution_count": 92,
     "metadata": {},
     "output_type": "execute_result"
    }
   ],
   "source": [
    "np.linspace(1,100,30)"
   ]
  },
  {
   "cell_type": "markdown",
   "id": "01a31dea-ba0e-4bb7-bd2d-4e4ae3779e67",
   "metadata": {},
   "source": [
    "## Eye function\n",
    "#### The eye function is a built-in function in NumPy that is used to create an identity matrix\n",
    "An identity matrix is a type of matrix in which all the diagonal elements are one, and the remaining elements are zero\n",
    "\n"
   ]
  },
  {
   "cell_type": "code",
   "execution_count": 95,
   "id": "5ef2dedc-a2e0-4685-a118-0a698285f83d",
   "metadata": {},
   "outputs": [
    {
     "data": {
      "text/plain": [
       "array([[1., 0., 0.],\n",
       "       [0., 1., 0.],\n",
       "       [0., 0., 1.],\n",
       "       [0., 0., 0.],\n",
       "       [0., 0., 0.]])"
      ]
     },
     "execution_count": 95,
     "metadata": {},
     "output_type": "execute_result"
    }
   ],
   "source": [
    "np.eye(5,3)"
   ]
  },
  {
   "cell_type": "markdown",
   "id": "ff79a4c0-d6de-4e75-9fae-ca0bc2592490",
   "metadata": {},
   "source": [
    "## NumPy's rand function \n",
    "to create an array with random numbers"
   ]
  },
  {
   "cell_type": "code",
   "execution_count": 99,
   "id": "ac4f66e3-a9f5-4e2d-bfde-9042e207bd5e",
   "metadata": {},
   "outputs": [
    {
     "data": {
      "text/plain": [
       "array([0.46082249, 0.20109986, 0.31889847])"
      ]
     },
     "execution_count": 99,
     "metadata": {},
     "output_type": "execute_result"
    }
   ],
   "source": [
    "np.random.rand(3)"
   ]
  },
  {
   "cell_type": "code",
   "execution_count": 101,
   "id": "a74beb03-02d0-42b2-aa34-5839e0cc8aed",
   "metadata": {},
   "outputs": [
    {
     "data": {
      "text/plain": [
       "array([ 1.47394691,  0.78762207, -0.2048614 ])"
      ]
     },
     "execution_count": 101,
     "metadata": {},
     "output_type": "execute_result"
    }
   ],
   "source": [
    "np.random.randn(3)"
   ]
  },
  {
   "cell_type": "code",
   "execution_count": 146,
   "id": "249a6447-5d0b-4c24-886b-faff8555c749",
   "metadata": {},
   "outputs": [
    {
     "data": {
      "text/plain": [
       "array([[ 2, 22, 20],\n",
       "       [13,  5, 24]])"
      ]
     },
     "execution_count": 146,
     "metadata": {},
     "output_type": "execute_result"
    }
   ],
   "source": [
    "np.random.randint(1,30,[2,3])"
   ]
  },
  {
   "cell_type": "markdown",
   "id": "5105fbbd-22de-4d6d-b077-a0addd73fe73",
   "metadata": {},
   "source": [
    "## NumPy indexing"
   ]
  },
  {
   "cell_type": "code",
   "execution_count": 150,
   "id": "0e21204b-ad06-4c79-ae12-3809822d72e4",
   "metadata": {},
   "outputs": [
    {
     "data": {
      "text/plain": [
       "array([ 1,  2,  3,  4,  5,  6,  7,  8,  9, 10])"
      ]
     },
     "execution_count": 150,
     "metadata": {},
     "output_type": "execute_result"
    }
   ],
   "source": [
    "arr_example=np.arange(1,11)\n",
    "arr_example"
   ]
  },
  {
   "cell_type": "code",
   "execution_count": 185,
   "id": "b712fe1c-c484-4665-97b9-7b72fbc09db7",
   "metadata": {},
   "outputs": [],
   "source": [
    "arr_example[3:5]=99"
   ]
  },
  {
   "cell_type": "code",
   "execution_count": 187,
   "id": "20d4a389-41f7-42cb-9643-43a0dfe6ee7e",
   "metadata": {},
   "outputs": [
    {
     "data": {
      "text/plain": [
       "array([ 1,  2,  3, 99, 99,  6,  7,  8,  9, 10])"
      ]
     },
     "execution_count": 187,
     "metadata": {},
     "output_type": "execute_result"
    }
   ],
   "source": [
    "arr_example"
   ]
  },
  {
   "cell_type": "code",
   "execution_count": 189,
   "id": "792ab06f-1ea6-4535-a9b9-95255a00e912",
   "metadata": {},
   "outputs": [
    {
     "data": {
      "text/plain": [
       "array([[33, 34, 31],\n",
       "       [ 5, 11,  8],\n",
       "       [ 2, 32, 23]])"
      ]
     },
     "execution_count": 189,
     "metadata": {},
     "output_type": "execute_result"
    }
   ],
   "source": [
    "arr_example1=np.random.randint(1,40,[3,3])\n",
    "arr_example1"
   ]
  },
  {
   "cell_type": "code",
   "execution_count": 170,
   "id": "c7d7cff9-fb6b-4195-9dfb-90669d25d411",
   "metadata": {},
   "outputs": [
    {
     "data": {
      "text/plain": [
       "array([[11, 27, 26],\n",
       "       [25, 35, 15]])"
      ]
     },
     "execution_count": 170,
     "metadata": {},
     "output_type": "execute_result"
    }
   ],
   "source": [
    "arr_example1[1:3]"
   ]
  },
  {
   "cell_type": "code",
   "execution_count": 172,
   "id": "a22990c8-5f4c-4dc4-9cbe-d69baad703b8",
   "metadata": {},
   "outputs": [
    {
     "data": {
      "text/plain": [
       "array([27, 26])"
      ]
     },
     "execution_count": 172,
     "metadata": {},
     "output_type": "execute_result"
    }
   ],
   "source": [
    "arr_example1[1][1:3]"
   ]
  },
  {
   "cell_type": "markdown",
   "id": "2de48181-046f-4ec0-9e6c-a5b109785d7f",
   "metadata": {},
   "source": [
    "##Task for you\n",
    "### print the 35,15 number position"
   ]
  },
  {
   "cell_type": "markdown",
   "id": "03a90324-47b8-45ef-942f-01c879f5338c",
   "metadata": {},
   "source": [
    "## NumPy operations"
   ]
  },
  {
   "cell_type": "code",
   "execution_count": null,
   "id": "0dd53e0a-c7d0-4ba6-bfe7-c82d38126a2c",
   "metadata": {},
   "outputs": [],
   "source": []
  }
 ],
 "metadata": {
  "kernelspec": {
   "display_name": "Python [conda env:base] *",
   "language": "python",
   "name": "conda-base-py"
  },
  "language_info": {
   "codemirror_mode": {
    "name": "ipython",
    "version": 3
   },
   "file_extension": ".py",
   "mimetype": "text/x-python",
   "name": "python",
   "nbconvert_exporter": "python",
   "pygments_lexer": "ipython3",
   "version": "3.12.7"
  }
 },
 "nbformat": 4,
 "nbformat_minor": 5
}
