{
 "cells": [
  {
   "cell_type": "code",
   "execution_count": 43,
   "id": "98de411e-a3d4-4cc3-87c5-3411eac20e81",
   "metadata": {},
   "outputs": [],
   "source": [
    "import pandas as pd\n",
    "import numpy as np"
   ]
  },
  {
   "cell_type": "markdown",
   "id": "8b1bce12-1311-4056-9f02-c620d05aef69",
   "metadata": {},
   "source": [
    "# Creating Series from List"
   ]
  },
  {
   "cell_type": "code",
   "execution_count": 45,
   "id": "0b887d22-d861-40fc-8724-5bc84649ee2c",
   "metadata": {},
   "outputs": [
    {
     "data": {
      "text/plain": [
       "[1, 2, 3, 4, 5, 'rohan']"
      ]
     },
     "execution_count": 45,
     "metadata": {},
     "output_type": "execute_result"
    }
   ],
   "source": [
    "list1=[1,2,3,4,5,'rohan']\n",
    "list1"
   ]
  },
  {
   "cell_type": "code",
   "execution_count": 47,
   "id": "e8d11b0c-a905-4317-9854-80b18dac1b8c",
   "metadata": {},
   "outputs": [
    {
     "data": {
      "text/plain": [
       "a        1\n",
       "b        2\n",
       "c        3\n",
       "d        4\n",
       "e        5\n",
       "f    rohan\n",
       "dtype: object"
      ]
     },
     "execution_count": 47,
     "metadata": {},
     "output_type": "execute_result"
    }
   ],
   "source": [
    "series1=pd.Series(list1,index=['a','b','c','d','e','f'])\n",
    "series1"
   ]
  },
  {
   "cell_type": "markdown",
   "id": "e07793c5-160c-4148-ae71-8a3255d24d8f",
   "metadata": {},
   "source": [
    "# Creating Series from array"
   ]
  },
  {
   "cell_type": "code",
   "execution_count": 54,
   "id": "09bfe26a-4951-40be-b38c-e9d31726da0f",
   "metadata": {},
   "outputs": [
    {
     "data": {
      "text/plain": [
       "array([10, 20, 30])"
      ]
     },
     "execution_count": 54,
     "metadata": {},
     "output_type": "execute_result"
    }
   ],
   "source": [
    "arr1=np.array([10,20,30])\n",
    "arr1"
   ]
  },
  {
   "cell_type": "code",
   "execution_count": 65,
   "id": "d16dcdda-9aed-4ac3-8a8e-6d2c1ba97aea",
   "metadata": {},
   "outputs": [
    {
     "data": {
      "text/plain": [
       "a    10\n",
       "b    20\n",
       "c    30\n",
       "dtype: int32"
      ]
     },
     "execution_count": 65,
     "metadata": {},
     "output_type": "execute_result"
    }
   ],
   "source": [
    "series2=pd.Series(arr1,index=['a','b','c'])\n",
    "series2"
   ]
  },
  {
   "cell_type": "markdown",
   "id": "d4723789-6f04-4c3d-a357-1bd3f7d8913c",
   "metadata": {},
   "source": [
    "# Creating Series from dictionary"
   ]
  },
  {
   "cell_type": "code",
   "execution_count": 74,
   "id": "3db56a3e-6555-43e8-b0ae-947ff575d695",
   "metadata": {},
   "outputs": [
    {
     "data": {
      "text/plain": [
       "dict"
      ]
     },
     "execution_count": 74,
     "metadata": {},
     "output_type": "execute_result"
    }
   ],
   "source": [
    "dict1={'a':10,'b':30,'c':40}\n",
    "type(dict1)"
   ]
  },
  {
   "cell_type": "code",
   "execution_count": 80,
   "id": "9caf5b13-6e60-4d20-85fe-52beb6cde8c8",
   "metadata": {},
   "outputs": [
    {
     "data": {
      "text/plain": [
       "a    10\n",
       "b    30\n",
       "c    40\n",
       "dtype: int64"
      ]
     },
     "execution_count": 80,
     "metadata": {},
     "output_type": "execute_result"
    }
   ],
   "source": [
    "series3=pd.Series(dict1)\n",
    "series3"
   ]
  },
  {
   "cell_type": "markdown",
   "id": "ba011901-a7e4-4822-95fc-b203b007687f",
   "metadata": {},
   "source": [
    "# Pandas Built in function"
   ]
  },
  {
   "cell_type": "code",
   "execution_count": 85,
   "id": "ef6a64c2-5417-4810-832b-3c0777f7567e",
   "metadata": {},
   "outputs": [
    {
     "data": {
      "text/plain": [
       "0    <built-in function print>\n",
       "1      <built-in function len>\n",
       "dtype: object"
      ]
     },
     "execution_count": 85,
     "metadata": {},
     "output_type": "execute_result"
    }
   ],
   "source": [
    "pd.Series([print,len])"
   ]
  },
  {
   "cell_type": "code",
   "execution_count": 89,
   "id": "6f36d1a1-11c3-4ec4-b29d-94494f2b0000",
   "metadata": {},
   "outputs": [
    {
     "data": {
      "text/plain": [
       "a    10\n",
       "b    20\n",
       "c    30\n",
       "dtype: int32"
      ]
     },
     "execution_count": 89,
     "metadata": {},
     "output_type": "execute_result"
    }
   ],
   "source": [
    "series2"
   ]
  },
  {
   "cell_type": "code",
   "execution_count": 101,
   "id": "d0c3fdcc-1b68-4ea4-b051-ee77e9541002",
   "metadata": {},
   "outputs": [
    {
     "data": {
      "text/plain": [
       "30"
      ]
     },
     "execution_count": 101,
     "metadata": {},
     "output_type": "execute_result"
    }
   ],
   "source": [
    "series2['c']"
   ]
  },
  {
   "cell_type": "code",
   "execution_count": 107,
   "id": "df2e8f75-a796-4ed9-8051-3d189a3f8190",
   "metadata": {},
   "outputs": [
    {
     "data": {
      "text/plain": [
       "0        1\n",
       "1        2\n",
       "2        3\n",
       "3        4\n",
       "4        5\n",
       "5    rohan\n",
       "dtype: object"
      ]
     },
     "execution_count": 107,
     "metadata": {},
     "output_type": "execute_result"
    }
   ],
   "source": [
    "series4=pd.Series(list1)\n",
    "series4"
   ]
  },
  {
   "cell_type": "code",
   "execution_count": 113,
   "id": "f36db9a1-7f7a-4afa-86b4-05151664767d",
   "metadata": {},
   "outputs": [
    {
     "data": {
      "text/plain": [
       "4"
      ]
     },
     "execution_count": 113,
     "metadata": {},
     "output_type": "execute_result"
    }
   ],
   "source": [
    "series4[3]"
   ]
  },
  {
   "cell_type": "code",
   "execution_count": 117,
   "id": "6b0e9c75-415a-47fb-b660-8f01881cc8ae",
   "metadata": {},
   "outputs": [
    {
     "data": {
      "text/plain": [
       "a        1\n",
       "b        2\n",
       "c        3\n",
       "d        4\n",
       "e        5\n",
       "f    rohan\n",
       "dtype: object"
      ]
     },
     "execution_count": 117,
     "metadata": {},
     "output_type": "execute_result"
    }
   ],
   "source": [
    "series1"
   ]
  },
  {
   "cell_type": "code",
   "execution_count": 119,
   "id": "ba9eada4-abcd-4969-8cd2-fa24aa51b59d",
   "metadata": {},
   "outputs": [
    {
     "data": {
      "text/plain": [
       "a    10\n",
       "b    20\n",
       "c    30\n",
       "dtype: int32"
      ]
     },
     "execution_count": 119,
     "metadata": {},
     "output_type": "execute_result"
    }
   ],
   "source": [
    "series2"
   ]
  },
  {
   "cell_type": "code",
   "execution_count": 125,
   "id": "c70529e1-4121-4780-ab6e-bda0053fef5b",
   "metadata": {},
   "outputs": [
    {
     "data": {
      "text/plain": [
       "a    10.0\n",
       "b    40.0\n",
       "c    90.0\n",
       "d     NaN\n",
       "e     NaN\n",
       "f     NaN\n",
       "dtype: object"
      ]
     },
     "execution_count": 125,
     "metadata": {},
     "output_type": "execute_result"
    }
   ],
   "source": [
    "series1*series2"
   ]
  }
 ],
 "metadata": {
  "kernelspec": {
   "display_name": "Python [conda env:base] *",
   "language": "python",
   "name": "conda-base-py"
  },
  "language_info": {
   "codemirror_mode": {
    "name": "ipython",
    "version": 3
   },
   "file_extension": ".py",
   "mimetype": "text/x-python",
   "name": "python",
   "nbconvert_exporter": "python",
   "pygments_lexer": "ipython3",
   "version": "3.12.7"
  }
 },
 "nbformat": 4,
 "nbformat_minor": 5
}
