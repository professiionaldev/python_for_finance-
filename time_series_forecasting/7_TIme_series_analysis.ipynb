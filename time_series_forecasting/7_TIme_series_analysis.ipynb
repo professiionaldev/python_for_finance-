{
 "cells": [
  {
   "cell_type": "code",
   "execution_count": 9,
   "id": "c67b4c60-e741-42f6-8c7a-b90b6fbc8239",
   "metadata": {},
   "outputs": [],
   "source": [
    "import numpy as np\n",
    "import pandas as pd\n",
    "import matplotlib.pyplot as plt\n",
    "from datetime import datetime"
   ]
  },
  {
   "cell_type": "code",
   "execution_count": 17,
   "id": "0f799fa3-1ec8-443a-a735-dccf7eaa867a",
   "metadata": {},
   "outputs": [],
   "source": [
    "year=2025\n",
    "month=7\n",
    "day=8\n",
    "hour=7\n",
    "minute=50\n",
    "seconds=32"
   ]
  },
  {
   "cell_type": "code",
   "execution_count": 20,
   "id": "06bbdea6-e057-4591-9d3f-28cfc003c6d4",
   "metadata": {},
   "outputs": [
    {
     "name": "stdout",
     "output_type": "stream",
     "text": [
      "2025-09-08 07:50:32\n"
     ]
    }
   ],
   "source": [
    "date=datetime(2025,9,day,hour,minute,seconds)\n",
    "print(date)"
   ]
  },
  {
   "cell_type": "code",
   "execution_count": 28,
   "id": "30a462f4-7f67-4657-8510-a3eb43d92aef",
   "metadata": {},
   "outputs": [
    {
     "name": "stdout",
     "output_type": "stream",
     "text": [
      " this is month retrieved from datetime function 9\n",
      " this is year retrieved from datetime function 2025\n",
      " this is hour retrieved from datetime function 7\n"
     ]
    }
   ],
   "source": [
    "# retrieving elements from datetime function\n",
    "print(f' this is month retrieved from datetime function {date.month}')\n",
    "print(f' this is year retrieved from datetime function {date.year}')\n",
    "print(f' this is hour retrieved from datetime function {date.hour}')\n",
    "\n"
   ]
  },
  {
   "cell_type": "code",
   "execution_count": 29,
   "id": "5a011110-32f5-445a-93d0-419ad90a8c71",
   "metadata": {},
   "outputs": [],
   "source": [
    "# standard syntax for datetime function\n",
    "# pandas.DateTimeIndex( data,copy,start,end)"
   ]
  },
  {
   "cell_type": "code",
   "execution_count": 32,
   "id": "053e154d-7738-4569-9cdf-e9365cc67dfe",
   "metadata": {},
   "outputs": [
    {
     "data": {
      "text/plain": [
       "[datetime.datetime(2015, 4, 3, 0, 0), datetime.datetime(2026, 5, 8, 0, 0)]"
      ]
     },
     "execution_count": 32,
     "metadata": {},
     "output_type": "execute_result"
    }
   ],
   "source": [
    "list_date=[datetime(2015,4,3),datetime(2026,5,8)]\n",
    "list_date"
   ]
  },
  {
   "cell_type": "code",
   "execution_count": 44,
   "id": "cb17ace4-6e9e-49c9-9808-3243ef5762df",
   "metadata": {},
   "outputs": [
    {
     "data": {
      "text/plain": [
       "DatetimeIndex(['2015-04-03', '2026-05-08'], dtype='datetime64[ns]', freq=None)"
      ]
     },
     "execution_count": 44,
     "metadata": {},
     "output_type": "execute_result"
    }
   ],
   "source": [
    "# Converted to a Date time index\n",
    "date_index=pd.DatetimeIndex(list_date)\n",
    "date_index\n"
   ]
  },
  {
   "cell_type": "code",
   "execution_count": 51,
   "id": "28c237f1-e339-4b33-ba84-2124e38c51a2",
   "metadata": {},
   "outputs": [
    {
     "data": {
      "text/plain": [
       "array([[ 2.03186596,  0.07296942],\n",
       "       [ 0.65631681, -0.40857206]])"
      ]
     },
     "execution_count": 51,
     "metadata": {},
     "output_type": "execute_result"
    }
   ],
   "source": [
    "# Considering some random data\n",
    "data=np.random.randn(2,2)\n",
    "cols=['x','Y']\n",
    "data\n"
   ]
  },
  {
   "cell_type": "code",
   "execution_count": 52,
   "id": "37cdfdb6-b3f4-4f26-bb80-41c8b6e042d5",
   "metadata": {},
   "outputs": [
    {
     "data": {
      "text/html": [
       "<div>\n",
       "<style scoped>\n",
       "    .dataframe tbody tr th:only-of-type {\n",
       "        vertical-align: middle;\n",
       "    }\n",
       "\n",
       "    .dataframe tbody tr th {\n",
       "        vertical-align: top;\n",
       "    }\n",
       "\n",
       "    .dataframe thead th {\n",
       "        text-align: right;\n",
       "    }\n",
       "</style>\n",
       "<table border=\"1\" class=\"dataframe\">\n",
       "  <thead>\n",
       "    <tr style=\"text-align: right;\">\n",
       "      <th></th>\n",
       "      <th>x</th>\n",
       "      <th>Y</th>\n",
       "    </tr>\n",
       "  </thead>\n",
       "  <tbody>\n",
       "    <tr>\n",
       "      <th>2015-04-03</th>\n",
       "      <td>2.031866</td>\n",
       "      <td>0.072969</td>\n",
       "    </tr>\n",
       "    <tr>\n",
       "      <th>2026-05-08</th>\n",
       "      <td>0.656317</td>\n",
       "      <td>-0.408572</td>\n",
       "    </tr>\n",
       "  </tbody>\n",
       "</table>\n",
       "</div>"
      ],
      "text/plain": [
       "                   x         Y\n",
       "2015-04-03  2.031866  0.072969\n",
       "2026-05-08  0.656317 -0.408572"
      ]
     },
     "execution_count": 52,
     "metadata": {},
     "output_type": "execute_result"
    }
   ],
   "source": [
    "df = pd.DataFrame(data,date_index,cols)\n",
    "df"
   ]
  },
  {
   "cell_type": "markdown",
   "id": "608543bd-eec5-470c-9afa-73e99e5735e5",
   "metadata": {},
   "source": [
    "## Complete the exercise\n",
    "📝 Steps to Follow:\n",
    "\n",
    "1. Manually create a list of 5 dates using datetime\n",
    "(e.g., 2023-01-01, 2023-01-02, ...)\n",
    "\n",
    "2. Convert this list to a DateTimeIndex using pd.DatetimeIndex()\n",
    "\n",
    "3. Create a 5x2 random matrix using NumPy to represent stock prices of two companies (like Company A and Company B)\n",
    "\n",
    "4.Make a DataFrame using that data and your DateTimeIndex as the index\n",
    "Columns should be: ['Company A', 'Company B']\n",
    "\n",
    "5.Print the DataFrame to see how time-based data looks"
   ]
  }
 ],
 "metadata": {
  "kernelspec": {
   "display_name": "anaconda-2024.02-py310",
   "language": "python",
   "name": "conda-env-anaconda-2024.02-py310-py"
  },
  "language_info": {
   "codemirror_mode": {
    "name": "ipython",
    "version": 3
   },
   "file_extension": ".py",
   "mimetype": "text/x-python",
   "name": "python",
   "nbconvert_exporter": "python",
   "pygments_lexer": "ipython3",
   "version": "3.10.14"
  }
 },
 "nbformat": 4,
 "nbformat_minor": 5
}
